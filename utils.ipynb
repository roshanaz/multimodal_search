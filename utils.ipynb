{
 "cells": [
  {
   "cell_type": "code",
   "execution_count": 104,
   "metadata": {},
   "outputs": [],
   "source": [
    "import weaviate\n",
    "\n",
    "def delete_collection(collection_name):\n",
    "    client = weaviate.connect_to_local()\n",
    "    \"\"\"Delete collection if it already exists\"\"\"\n",
    "    try:\n",
    "        if client.collections.exists(collection_name):\n",
    "            client.collections.delete(collection_name)\n",
    "            print(f\"Deleted existing collection: {collection_name}\")\n",
    "    except Exception as e:\n",
    "        print(f\"Error deleting collection: {str(e)}\")\n",
    "    \n",
    "    client.close()\n",
    "\n",
    "def list_collections():\n",
    "    client = weaviate.WeaviateClient(\n",
    "        connection_params=weaviate.connect.ConnectionParams.from_url(\n",
    "            url=\"http://localhost:8080\",\n",
    "            grpc_port=50051\n",
    "        )\n",
    "    )\n",
    "\n",
    "    client.connect()\n",
    "\n",
    "    try:\n",
    "        # Get all collections\n",
    "        collections = client.collections.list_all()\n",
    "        \n",
    "        print(\"Available collections:\")\n",
    "        for collection in collections:\n",
    "            print(f\"- {collection}\")\n",
    "\n",
    "    finally:\n",
    "        client.close()\n",
    "\n",
    "\n",
    "def get_size_of_collection(collection_name):\n",
    "    client = weaviate.connect_to_local()\n",
    "    collection = client.collections.get(collection_name)\n",
    "    response = collection.aggregate.over_all(total_count=True)\n",
    "    print(f\"{collection_name} collection size is: {response.total_count}\")\n",
    "    client.close()\n",
    "\n",
    "def print_collection_info(collection_name):\n",
    "    client = weaviate.connect_to_local()\n",
    "    \"\"\"Print detailed information about a collection's configuration\"\"\"\n",
    "    try:\n",
    "        collection = client.collections.get(collection_name)\n",
    "        collection_config = collection.config.get()\n",
    "\n",
    "        print(f\"\\nPrinting all the config for collection {collection_name} and its keys\")\n",
    "        print(collection_config.__dict__)\n",
    "        print(type(collection_config))\n",
    "        print(collection_config.__dict__.keys())\n",
    "        # Extract properties\n",
    "        print(f\"\\nProperties for collection '{collection_name}':\")\n",
    "        for prop in collection_config.properties:\n",
    "            print(f\" - Property: {prop.name}, Data Type: {prop.data_type}\")\n",
    "\n",
    "            if prop.vectorizer_configs:\n",
    "                for vectorizer, config in prop.vectorizer_configs.items():\n",
    "                    print(f\" Vectorizer: {vectorizer},Skip: {config.skip}, Vectorize Property Name: {config.vectorize_property_name}\")\n",
    "\n",
    "        # Extract weights from vetor_config\n",
    "        if collection_config.vector_config:\n",
    "            print(\"\\nVector Configuration\")\n",
    "            for vector_name, vector_config in collection_config.vector_config.items():\n",
    "                print(f\"Vector: {vector_name}\")\n",
    "                if vector_config.vectorizer.model:\n",
    "                    model_config = vector_config.vectorizer.model\n",
    "                    print(f\"  Image Fields: {model_config.get('imageFields', [])}\")\n",
    "                    print(f\"  Text Fields: {model_config.get('textFields', [])}\")\n",
    "                    weights = model_config.get('weights', {})\n",
    "                    print(f\"  Weights:\")\n",
    "                    print(f\"    Image Fields: {weights.get('imageFields', [])}\")\n",
    "                    print(f\"    Text Fields: {weights.get('textFields', [])}\")\n",
    "\n",
    "    except Exception as e:\n",
    "        print(f\"Error getting collection info: {str(e)}\")\n",
    "    \n",
    "    client.close()"
   ]
  },
  {
   "cell_type": "code",
   "execution_count": 63,
   "metadata": {},
   "outputs": [
    {
     "name": "stdout",
     "output_type": "stream",
     "text": [
      "Available collections:\n",
      "- Flickr30k_manual_test\n",
      "- Flickr30k_multi2vec_50_50\n",
      "- Flickr30k_multi2vec_70_30\n",
      "- Flickr30k_manual_70_30\n",
      "- Flickr30k_manual_50_50\n",
      "- Flickr30k_manual_60_40\n",
      "- Flickr30k_multi2vec_test\n",
      "- Flickr30k_multi2vec_60_40\n"
     ]
    }
   ],
   "source": [
    "list_collections()"
   ]
  },
  {
   "cell_type": "code",
   "execution_count": 64,
   "metadata": {},
   "outputs": [
    {
     "name": "stdout",
     "output_type": "stream",
     "text": [
      "Flickr30k_multi2vec_50_50 collection size is: 598\n"
     ]
    }
   ],
   "source": [
    "get_size_of_collection(\"Flickr30k_multi2vec_50_50\")"
   ]
  },
  {
   "cell_type": "code",
   "execution_count": 111,
   "metadata": {},
   "outputs": [
    {
     "name": "stdout",
     "output_type": "stream",
     "text": [
      "\n",
      "Printing all the config for collection Flickr30k_multi2vec_70_30 and its keys\n",
      "{'name': 'Flickr30k_multi2vec_70_30', 'description': None, 'generative_config': None, 'inverted_index_config': _InvertedIndexConfig(bm25=_BM25Config(b=0.75, k1=1.2), cleanup_interval_seconds=60, index_null_state=False, index_property_length=False, index_timestamps=False, stopwords=_StopwordsConfig(preset=<StopwordsPreset.EN: 'en'>, additions=None, removals=None)), 'multi_tenancy_config': _MultiTenancyConfig(enabled=False, auto_tenant_creation=False, auto_tenant_activation=False), 'properties': [_Property(name='image', description=None, data_type=<DataType.BLOB: 'blob'>, index_filterable=True, index_range_filters=False, index_searchable=False, nested_properties=None, tokenization=None, vectorizer_config=None, vectorizer=None, vectorizer_configs={'multi2vec-clip': _PropertyVectorizerConfig(skip=False, vectorize_property_name=True)}), _Property(name='image_id', description=None, data_type=<DataType.TEXT: 'text'>, index_filterable=True, index_range_filters=False, index_searchable=True, nested_properties=None, tokenization=<Tokenization.WORD: 'word'>, vectorizer_config=None, vectorizer=None, vectorizer_configs={'multi2vec-clip': _PropertyVectorizerConfig(skip=False, vectorize_property_name=True)}), _Property(name='captions', description=None, data_type=<DataType.TEXT: 'text'>, index_filterable=True, index_range_filters=False, index_searchable=True, nested_properties=None, tokenization=<Tokenization.WORD: 'word'>, vectorizer_config=None, vectorizer=None, vectorizer_configs={'multi2vec-clip': _PropertyVectorizerConfig(skip=False, vectorize_property_name=True)})], 'references': [], 'replication_config': _ReplicationConfig(factor=1, async_enabled=False, deletion_strategy=<ReplicationDeletionStrategy.NO_AUTOMATED_RESOLUTION: 'NoAutomatedResolution'>), 'reranker_config': None, 'sharding_config': _ShardingConfig(virtual_per_physical=128, desired_count=1, actual_count=1, desired_virtual_count=128, actual_virtual_count=128, key='_id', strategy='hash', function='murmur3'), 'vector_index_config': None, 'vector_index_type': None, 'vectorizer_config': None, 'vectorizer': None, 'vector_config': {'image_vector': _NamedVectorConfig(vectorizer=_NamedVectorizerConfig(vectorizer=<Vectorizers.MULTI2VEC_CLIP: 'multi2vec-clip'>, model={'imageFields': ['image'], 'textFields': ['captions'], 'vectorizeClassName': True, 'weights': {'imageFields': [0.7], 'textFields': [0.3]}}, source_properties=None), vector_index_config=_VectorIndexConfigHNSW(multi_vector=None, quantizer=None, cleanup_interval_seconds=300, distance_metric=<VectorDistances.COSINE: 'cosine'>, dynamic_ef_min=100, dynamic_ef_max=500, dynamic_ef_factor=8, ef=-1, ef_construction=128, filter_strategy=<VectorFilterStrategy.SWEEPING: 'sweeping'>, flat_search_cutoff=40000, max_connections=32, skip=False, vector_cache_max_objects=1000000000000))}}\n",
      "<class 'weaviate.collections.classes.config._CollectionConfig'>\n",
      "dict_keys(['name', 'description', 'generative_config', 'inverted_index_config', 'multi_tenancy_config', 'properties', 'references', 'replication_config', 'reranker_config', 'sharding_config', 'vector_index_config', 'vector_index_type', 'vectorizer_config', 'vectorizer', 'vector_config'])\n",
      "\n",
      "Properties for collection 'Flickr30k_multi2vec_70_30':\n",
      " - Property: image, Data Type: blob\n",
      " Vectorizer: multi2vec-clip,Skip: False, Vectorize Property Name: True\n",
      " - Property: image_id, Data Type: text\n",
      " Vectorizer: multi2vec-clip,Skip: False, Vectorize Property Name: True\n",
      " - Property: captions, Data Type: text\n",
      " Vectorizer: multi2vec-clip,Skip: False, Vectorize Property Name: True\n",
      "\n",
      "Vector Configuration\n",
      "Vector: image_vector\n",
      "  Image Fields: ['image']\n",
      "  Text Fields: ['captions']\n",
      "  Weights:\n",
      "    Image Fields: [0.7]\n",
      "    Text Fields: [0.3]\n"
     ]
    }
   ],
   "source": [
    "print_collection_info(\"Flickr30k_multi2vec_70_30\")"
   ]
  },
  {
   "cell_type": "code",
   "execution_count": null,
   "metadata": {},
   "outputs": [],
   "source": []
  }
 ],
 "metadata": {
  "kernelspec": {
   "display_name": "multimodal_comparison",
   "language": "python",
   "name": "multimodal_comparison"
  },
  "language_info": {
   "codemirror_mode": {
    "name": "ipython",
    "version": 3
   },
   "file_extension": ".py",
   "mimetype": "text/x-python",
   "name": "python",
   "nbconvert_exporter": "python",
   "pygments_lexer": "ipython3",
   "version": "3.10.16"
  }
 },
 "nbformat": 4,
 "nbformat_minor": 2
}

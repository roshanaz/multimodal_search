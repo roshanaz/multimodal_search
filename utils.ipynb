{
 "cells": [
  {
   "cell_type": "code",
   "execution_count": 4,
   "metadata": {},
   "outputs": [],
   "source": [
    "import weaviate\n",
    "\n",
    "def delete_collection(collection_name):\n",
    "    client = weaviate.connect_to_local()\n",
    "    \"\"\"Delete collection if it already exists\"\"\"\n",
    "    try:\n",
    "        if client.collections.exists(collection_name):\n",
    "            client.collections.delete(collection_name)\n",
    "            print(f\"Deleted existing collection: {collection_name}\")\n",
    "    except Exception as e:\n",
    "        print(f\"Error deleting collection: {str(e)}\")\n",
    "    \n",
    "    client.close()\n",
    "\n",
    "def list_collections():\n",
    "    # Assuming you already have a client connected\n",
    "    client = weaviate.WeaviateClient(\n",
    "        connection_params=weaviate.connect.ConnectionParams.from_url(\n",
    "            url=\"http://localhost:8080\",\n",
    "            grpc_port=50051\n",
    "        )\n",
    "    )\n",
    "\n",
    "    client.connect()\n",
    "\n",
    "    try:\n",
    "        # Get all collections\n",
    "        collections = client.collections.list_all()\n",
    "        \n",
    "        # Print collection names\n",
    "        print(\"Available collections:\")\n",
    "        for collection in collections:\n",
    "            print(f\"- {collection}\")\n",
    "\n",
    "    finally:\n",
    "        client.close()"
   ]
  },
  {
   "cell_type": "code",
   "execution_count": 2,
   "metadata": {},
   "outputs": [
    {
     "name": "stdout",
     "output_type": "stream",
     "text": [
      "Available collections:\n",
      "- Flickr30k_multi2vec_50_50\n",
      "- Flickr30k_manual_50_50\n",
      "- Flickr30k\n",
      "- Flickr30k_manual\n"
     ]
    }
   ],
   "source": [
    "list_collections()"
   ]
  },
  {
   "cell_type": "code",
   "execution_count": 8,
   "metadata": {},
   "outputs": [
    {
     "name": "stdout",
     "output_type": "stream",
     "text": [
      "Deleted existing collection: Flickr30k_manual\n"
     ]
    }
   ],
   "source": [
    "delete_collection(\"Flickr30k_manual\")"
   ]
  },
  {
   "cell_type": "code",
   "execution_count": null,
   "metadata": {},
   "outputs": [],
   "source": []
  }
 ],
 "metadata": {
  "kernelspec": {
   "display_name": "multimodal_comparison",
   "language": "python",
   "name": "multimodal_comparison"
  },
  "language_info": {
   "codemirror_mode": {
    "name": "ipython",
    "version": 3
   },
   "file_extension": ".py",
   "mimetype": "text/x-python",
   "name": "python",
   "nbconvert_exporter": "python",
   "pygments_lexer": "ipython3",
   "version": "3.10.16"
  }
 },
 "nbformat": 4,
 "nbformat_minor": 2
}
